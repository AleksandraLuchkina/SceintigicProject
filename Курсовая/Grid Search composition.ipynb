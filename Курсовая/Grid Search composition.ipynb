{
 "cells": [
  {
   "cell_type": "code",
   "execution_count": 3,
   "metadata": {},
   "outputs": [],
   "source": [
    "import pandas as pd\n",
    "from sklearn.model_selection import train_test_split\n",
    "from sklearn import preprocessing\n",
    "import numpy as np\n",
    "from sklearn.preprocessing import StandardScaler\n",
    "from sklearn.metrics import f1_score"
   ]
  },
  {
   "cell_type": "code",
   "execution_count": 4,
   "metadata": {},
   "outputs": [],
   "source": [
    "data = pd.read_csv('facies_vectors.csv')\n",
    "feature_names = ['GR', 'ILD_log10', 'DeltaPHI', 'PHIND', 'PE', 'NM_M', 'RELPOS']\n",
    "data = data.fillna(data['PE'].mean())"
   ]
  },
  {
   "cell_type": "markdown",
   "metadata": {},
   "source": [
    "Grid Search Bagging Tree:"
   ]
  },
  {
   "cell_type": "code",
   "execution_count": 6,
   "metadata": {},
   "outputs": [
    {
     "name": "stdout",
     "output_type": "stream",
     "text": [
      "bagging tree, split {'bootstrap_features': True, 'max_features': 2, 'max_samples': 3, 'n_estimators': 100, 'oob_score': True}\n",
      "bagging tree, well {'bootstrap_features': False, 'max_features': 2, 'max_samples': 3, 'n_estimators': 100, 'oob_score': False} LUKE G U\n",
      "bagging tree, well {'bootstrap_features': True, 'max_features': 2, 'max_samples': 3, 'n_estimators': 100, 'oob_score': False} NOLAN\n",
      "bagging tree, well {'bootstrap_features': False, 'max_features': 2, 'max_samples': 3, 'n_estimators': 100, 'oob_score': True} KIMZEY A\n",
      "bagging tree, well {'bootstrap_features': False, 'max_features': 2, 'max_samples': 3, 'n_estimators': 100, 'oob_score': True} NEWBY\n",
      "bagging tree, well {'bootstrap_features': False, 'max_features': 2, 'max_samples': 3, 'n_estimators': 200, 'oob_score': False} ALEXANDER D\n",
      "bagging tree, well {'bootstrap_features': True, 'max_features': 3, 'max_samples': 3, 'n_estimators': 100, 'oob_score': False} SHANKLE\n",
      "bagging tree, well {'bootstrap_features': True, 'max_features': 2, 'max_samples': 3, 'n_estimators': 100, 'oob_score': True} CROSS H CATTLE\n",
      "bagging tree, well {'bootstrap_features': False, 'max_features': 3, 'max_samples': 3, 'n_estimators': 200, 'oob_score': True} SHRIMPLIN\n",
      "bagging tree, well {'bootstrap_features': True, 'max_features': 2, 'max_samples': 3, 'n_estimators': 200, 'oob_score': True} Recruit F9\n",
      "bagging tree, well {'bootstrap_features': True, 'max_features': 2, 'max_samples': 3, 'n_estimators': 100, 'oob_score': False} CHURCHMAN BIBLE\n"
     ]
    }
   ],
   "source": [
    "from sklearn.tree import DecisionTreeClassifier\n",
    "from sklearn.ensemble import BaggingClassifier\n",
    "from sklearn.model_selection import GridSearchCV\n",
    "from sklearn.metrics import make_scorer\n",
    "\n",
    "\n",
    "scorer = make_scorer(f1_score,average='micro')\n",
    "parameters = {'n_estimators':[10, 100, 200], 'max_samples':[1, 2, 3], 'max_features':[1, 2, 3],'bootstrap_features':[True, False], 'oob_score':[True, False]}\n",
    "             \n",
    "dtr = DecisionTreeClassifier(criterion='entropy', max_depth= None, max_features= None, min_samples_split= 3, splitter= 'best')\n",
    "bag_tree = BaggingClassifier()\n",
    "clf = GridSearchCV(bag_tree, parameters, scoring=scorer)\n",
    "# Split Data\n",
    "train, test = train_test_split(data, test_size=0.3)\n",
    "X_train = train[feature_names].values\n",
    "y_train = train['Facies'].values\n",
    "X_test = test[feature_names].values\n",
    "y_test = test['Facies'].values\n",
    "    \n",
    "scaler = StandardScaler().fit(X_train)\n",
    "X_train_norm = scaler.transform(X_train)\n",
    "X_test_norm = scaler.transform(X_test)\n",
    "\n",
    "clf.fit(X_train_norm, y_train)\n",
    "print('bagging tree, split', clf.best_params_)\n",
    "#Test well\n",
    "for well in set(data['Well Name']):\n",
    "    train = data[data['Well Name'] != well]\n",
    "    test = data[data['Well Name'] == well]\n",
    "    X_train = train[feature_names].values\n",
    "    y_train = train['Facies'].values\n",
    "    X_test = test[feature_names].values\n",
    "    y_test = test['Facies'].values\n",
    "    \n",
    "    scaler = StandardScaler().fit(X_train)\n",
    "    X_train_norm = scaler.transform(X_train)\n",
    "    X_test_norm = scaler.transform(X_test)\n",
    "\n",
    "    clf.fit(X_train_norm, y_train)\n",
    "    print('bagging tree, well', clf.best_params_, well )"
   ]
  },
  {
   "cell_type": "code",
   "execution_count": null,
   "metadata": {},
   "outputs": [],
   "source": []
  }
 ],
 "metadata": {
  "kernelspec": {
   "display_name": "Python 3",
   "language": "python",
   "name": "python3"
  },
  "language_info": {
   "codemirror_mode": {
    "name": "ipython",
    "version": 3
   },
   "file_extension": ".py",
   "mimetype": "text/x-python",
   "name": "python",
   "nbconvert_exporter": "python",
   "pygments_lexer": "ipython3",
   "version": "3.6.3"
  }
 },
 "nbformat": 4,
 "nbformat_minor": 2
}
