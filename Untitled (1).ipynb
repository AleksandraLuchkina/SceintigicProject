{
 "cells": [
  {
   "cell_type": "markdown",
   "metadata": {
    "colab_type": "text",
    "id": "7SgAPPddTYFR"
   },
   "source": [
    "Import libraries:"
   ]
  },
  {
   "cell_type": "code",
   "execution_count": 0,
   "metadata": {
    "colab": {},
    "colab_type": "code",
    "id": "v3ml36mPTYFS"
   },
   "outputs": [],
   "source": [
    "import numpy as np\n",
    "import pandas as pd\n",
    "from sklearn.model_selection import train_test_split"
   ]
  },
  {
   "cell_type": "markdown",
   "metadata": {
    "colab_type": "text",
    "id": "BGDkL_vuTYFV"
   },
   "source": [
    "Read data, replace \",\" by \".\" and change type of columns:"
   ]
  },
  {
   "cell_type": "code",
   "execution_count": 0,
   "metadata": {
    "colab": {},
    "colab_type": "code",
    "id": "_3TgVWuuTYFW",
    "outputId": "a8e7cc8d-8290-4322-ccc0-d261b1442c81"
   },
   "outputs": [
    {
     "name": "stdout",
     "output_type": "stream",
     "text": [
      "   Unnamed: 0  contract_id  cnt_blocks_1m  cnt_blocks_2m  cnt_blocks_3m  \\\n",
      "0         0.0       4965.0            0.0            3.0            1.0   \n",
      "1         1.0       4974.0            0.0            6.0            0.0   \n",
      "2         2.0       2018.0            0.0            0.0            0.0   \n",
      "3         3.0       2628.0            1.0            0.0            0.0   \n",
      "4         4.0       3336.0            0.0            0.0            0.0   \n",
      "\n",
      "   cnt_blocks_2m_sum  cnt_blocks_3m_sum  ratio_cnt_blocks_2m  \\\n",
      "0                3.0                4.0             0.777977   \n",
      "1                6.0                6.0             1.000000   \n",
      "2                0.0                0.0             0.744709   \n",
      "3                1.0                1.0             0.000000   \n",
      "4                0.0                0.0             0.000000   \n",
      "\n",
      "   ratio_cnt_blocks_3m  avg_block_3m  ...    avg_daily_traffic_4w  \\\n",
      "0             0.000000         521.0  ...                0.000000   \n",
      "1             0.415613         474.0  ...                4.318102   \n",
      "2             0.436665           0.0  ...                0.000000   \n",
      "3             0.702495         166.0  ...                0.000000   \n",
      "4             1.000000         780.0  ...                1.601099   \n",
      "\n",
      "   avg_traffic_per_session_1m  avg_traffic_per_session_2m  \\\n",
      "0                    0.000182                    0.001800   \n",
      "1                    0.000312                    0.000319   \n",
      "2                    0.000181                    0.000010   \n",
      "3                    0.000000                    0.000000   \n",
      "4                    0.000000                    0.000000   \n",
      "\n",
      "   avg_traffic_per_session_3m  avg_traffic_per_session_1w  \\\n",
      "0                    0.000000                    0.000046   \n",
      "1                    0.000201                    0.000165   \n",
      "2                    0.000262                    0.000000   \n",
      "3                    0.000083                    0.000000   \n",
      "4                    0.000243                    0.000371   \n",
      "\n",
      "   avg_traffic_per_session_2w  avg_traffic_per_session_3w  \\\n",
      "0                    0.001666                    0.000000   \n",
      "1                    0.002317                    0.000000   \n",
      "2                    0.000092                    0.000000   \n",
      "3                    0.002070                    0.000592   \n",
      "4                    0.001504                    0.000000   \n",
      "\n",
      "   avg_traffic_per_session_4w         ARPU  churn  \n",
      "0                    0.000000   890.000000      1  \n",
      "1                    0.001118   538.000000      1  \n",
      "2                    0.000000  1340.000000      0  \n",
      "3                    0.000000   153.688502      1  \n",
      "4                    0.000000  1046.000000      1  \n",
      "\n",
      "[5 rows x 84 columns]\n"
     ]
    }
   ],
   "source": [
    "data = pd.read_csv('lab7_data.csv', sep='\\t')\n",
    "for column in data.columns:\n",
    "    data[column] = data[column].map(lambda x: str(x).replace(',', '.'))\n",
    "    data[column] = data[column].map(lambda x: float(x))\n",
    "data['churn'] = data['churn'].map(lambda x: int(x))\n",
    "print(data.head())"
   ]
  },
  {
   "cell_type": "markdown",
   "metadata": {
    "colab_type": "text",
    "id": "K-tMLm19TYFa"
   },
   "source": [
    "Split data:"
   ]
  },
  {
   "cell_type": "code",
   "execution_count": 0,
   "metadata": {
    "colab": {},
    "colab_type": "code",
    "id": "HBRE8JhiTYFb"
   },
   "outputs": [],
   "source": [
    "train, test = train_test_split(data, test_size=0.5, random_state=0)"
   ]
  },
  {
   "cell_type": "markdown",
   "metadata": {
    "colab_type": "text",
    "id": "ndzfk5Y7TYFd"
   },
   "source": [
    "Prepare matrices for test and train:"
   ]
  },
  {
   "cell_type": "code",
   "execution_count": 0,
   "metadata": {
    "colab": {},
    "colab_type": "code",
    "id": "H5TX60P1TYFe"
   },
   "outputs": [],
   "source": [
    "y_test = np.array(test['churn'])\n",
    "test = test.drop(['churn'], axis=1)\n",
    "X_test = np.array(test)"
   ]
  },
  {
   "cell_type": "code",
   "execution_count": 0,
   "metadata": {
    "colab": {},
    "colab_type": "code",
    "id": "2dh0REFuTYFg"
   },
   "outputs": [],
   "source": [
    "y_train = np.array(train['churn'])\n",
    "train = train.drop(['churn'], axis=1)\n",
    "X_train = np.array(train)"
   ]
  },
  {
   "cell_type": "code",
   "execution_count": 0,
   "metadata": {
    "colab": {},
    "colab_type": "code",
    "id": "E4-JwUOkTYFi"
   },
   "outputs": [],
   "source": [
    "from sklearn.preprocessing import scale\n",
    "\n",
    "scaled_X_train = scale(X_train)\n",
    "scaled_X_test = scale(X_test)"
   ]
  },
  {
   "cell_type": "markdown",
   "metadata": {
    "colab_type": "text",
    "id": "d4_6PQGuTYFk"
   },
   "source": [
    "Gridsearch for SVM:"
   ]
  },
  {
   "cell_type": "code",
   "execution_count": 0,
   "metadata": {
    "colab": {},
    "colab_type": "code",
    "id": "Q_e2wV-zTYFk",
    "outputId": "023ec7fb-ea03-420c-e6cd-d9390dc17ee8"
   },
   "outputs": [
    {
     "name": "stdout",
     "output_type": "stream",
     "text": [
      "{'degree': 2, 'C': 10, 'kernel': 'linear'}\n",
      "0.81945481205012\n"
     ]
    }
   ],
   "source": [
    "from sklearn.svm import SVC\n",
    "from sklearn.model_selection import GridSearchCV\n",
    "from sklearn.metrics import roc_curve, make_scorer\n",
    "from sklearn.metrics import auc, roc_auc_score\n",
    "\n",
    "scorer = make_scorer(roc_auc_score)\n",
    "parameters = {'kernel':['linear', 'poly', 'rbf'], 'C':[1, 5, 10], 'degree':[2, 3, 4]}\n",
    "svc = SVC(probability=True)\n",
    "clf = GridSearchCV(svc, parameters, scoring=scorer)\n",
    "clf.fit(scaled_X_train, y_train)\n",
    "print(clf.best_params_)\n",
    "clf.refit\n",
    "\n",
    "pred = clf.predict_proba(scaled_X_test)\n",
    "fpr, tpr, thresholds = roc_curve(y_test, pred[:,1], pos_label=1)\n",
    "print(auc(fpr, tpr))"
   ]
  },
  {
   "cell_type": "markdown",
   "metadata": {
    "colab_type": "text",
    "id": "MEeChJs6TYFn"
   },
   "source": [
    "Gridsearch for DecisionTree"
   ]
  },
  {
   "cell_type": "code",
   "execution_count": 0,
   "metadata": {
    "colab": {},
    "colab_type": "code",
    "id": "8LV3bHMnTYFo",
    "outputId": "9c1d65b2-34f1-419e-8eea-2fe3d7105fa4"
   },
   "outputs": [
    {
     "name": "stdout",
     "output_type": "stream",
     "text": [
      "{'criterion': 'entropy', 'min_samples_split': 2, 'max_depth': 2, 'max_features': None, 'splitter': 'best'}\n",
      "0.8091697769483692\n"
     ]
    }
   ],
   "source": [
    "from sklearn.tree import DecisionTreeClassifier\n",
    "from sklearn.model_selection import GridSearchCV\n",
    "from sklearn.metrics import roc_curve, make_scorer\n",
    "from sklearn.metrics import auc, roc_auc_score\n",
    "\n",
    "scorer = make_scorer(roc_auc_score)\n",
    "parameters = {'criterion':['gini', 'entropy'], 'splitter':['random', 'best'], 'max_depth':[1, 2, 3, 4, 5, None], \n",
    "             'min_samples_split':[2, 3, 4, 5,], 'max_features':['auto', 'log2', None]}\n",
    "             \n",
    "dt = DecisionTreeClassifier()\n",
    "clf = GridSearchCV(dt, parameters, scoring=scorer)\n",
    "clf.fit(X_train, y_train)\n",
    "print(clf.best_params_)\n",
    "#clf.refit\n",
    "\n",
    "pred = clf.predict_proba(X_test)\n",
    "fpr, tpr, thresholds = roc_curve(y_test, pred[:,1], pos_label=1)\n",
    "print(auc(fpr, tpr))"
   ]
  },
  {
   "cell_type": "markdown",
   "metadata": {
    "colab_type": "text",
    "id": "VyQSpeRETYFr"
   },
   "source": [
    "Gridsearch for KNN:"
   ]
  },
  {
   "cell_type": "code",
   "execution_count": 0,
   "metadata": {
    "colab": {},
    "colab_type": "code",
    "id": "eawHaU91TYFr",
    "outputId": "888fde63-d122-4440-a62c-32108b66888f"
   },
   "outputs": [
    {
     "name": "stdout",
     "output_type": "stream",
     "text": [
      "{'p': 1, 'weights': 'uniform', 'leaf_size': 20, 'algorithm': 'ball_tree', 'n_neighbors': 5}\n",
      "0.5289289522793922\n"
     ]
    }
   ],
   "source": [
    "from sklearn.neighbors import KNeighborsClassifier\n",
    "from sklearn.model_selection import GridSearchCV\n",
    "from sklearn.metrics import roc_curve, make_scorer\n",
    "from sklearn.metrics import auc, roc_auc_score\n",
    "\n",
    "scorer = make_scorer(roc_auc_score)\n",
    "parameters = {'n_neighbors':[3,4,5,6], 'weights':['uniform', 'distance'],\n",
    "              'algorithm':['ball_tree', 'kd_tree', 'brute'], 'leaf_size':[20, 30, 40], 'p':[1, 2, 3]}\n",
    "\n",
    "knn = KNeighborsClassifier()\n",
    "clf = GridSearchCV(knn, parameters, scoring=scorer)\n",
    "clf.fit(X_train, y_train)\n",
    "print(clf.best_params_)\n",
    "clf.refit\n",
    "\n",
    "pred = clf.predict_proba(X_test)\n",
    "fpr, tpr, thresholds = roc_curve(y_test, pred[:,1], pos_label=1)\n",
    "print(auc(fpr, tpr))"
   ]
  },
  {
   "cell_type": "code",
   "execution_count": 0,
   "metadata": {
    "colab": {},
    "colab_type": "code",
    "id": "P2lctipeTYFu"
   },
   "outputs": [],
   "source": []
  }
 ],
 "metadata": {
  "colab": {
   "name": "Untitled.ipynb",
   "provenance": [],
   "version": "0.3.2"
  },
  "kernelspec": {
   "display_name": "Python 3",
   "language": "python",
   "name": "python3"
  },
  "language_info": {
   "codemirror_mode": {
    "name": "ipython",
    "version": 3
   },
   "file_extension": ".py",
   "mimetype": "text/x-python",
   "name": "python",
   "nbconvert_exporter": "python",
   "pygments_lexer": "ipython3",
   "version": "3.6.3"
  }
 },
 "nbformat": 4,
 "nbformat_minor": 1
}
